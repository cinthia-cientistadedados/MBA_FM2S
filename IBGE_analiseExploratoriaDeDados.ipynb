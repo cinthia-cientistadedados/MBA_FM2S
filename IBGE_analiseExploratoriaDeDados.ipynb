{
  "cells": [
    {
      "cell_type": "markdown",
      "metadata": {
        "id": "view-in-github",
        "colab_type": "text"
      },
      "source": [
        "<a href=\"https://colab.research.google.com/github/cinthia-cientistadedados/cinthia-cientistadedados/blob/main/IBGE_analiseExploratoriaDeDados.ipynb\" target=\"_parent\"><img src=\"https://colab.research.google.com/assets/colab-badge.svg\" alt=\"Open In Colab\"/></a>"
      ]
    },
    {
      "cell_type": "markdown",
      "source": [
        "A v**isualização de dados** é um passo essencial na **Análise Exploratória de Dados (EDA)** e frequentemente precede análises mais avançadas ou modelagem. Este passo visa explorar e visualizar os dados para identificar padrões ou tendências.\n",
        "\n",
        "A atividade central deste passo é verificar gráficos, tabelas e estatísticas descritivas para explorar os dados.\n",
        "\n",
        "Ao visualizá-los, podemos identificar anomalias e erros nos dados que podem precisar de correção ou tratamento especial.\n",
        "\n",
        "Isso permite validar suposições e hipóteses iniciais sobre os dados, ou seja, podemos confirmar ou refutar nossas expectativas sobre como os dados se comportam."
      ],
      "metadata": {
        "id": "OyTcRKonBvOB"
      },
      "id": "OyTcRKonBvOB"
    },
    {
      "cell_type": "code",
      "execution_count": null,
      "id": "726fd2b0",
      "metadata": {
        "id": "726fd2b0"
      },
      "outputs": [],
      "source": [
        "import pandas as pd\n"
      ]
    },
    {
      "cell_type": "code",
      "execution_count": null,
      "id": "87b2e5cb",
      "metadata": {
        "id": "87b2e5cb",
        "outputId": "b86af8c9-ff22-4f46-8cfa-9e353e03dd8f"
      },
      "outputs": [
        {
          "data": {
            "text/html": [
              "<div>\n",
              "<style scoped>\n",
              "    .dataframe tbody tr th:only-of-type {\n",
              "        vertical-align: middle;\n",
              "    }\n",
              "\n",
              "    .dataframe tbody tr th {\n",
              "        vertical-align: top;\n",
              "    }\n",
              "\n",
              "    .dataframe thead th {\n",
              "        text-align: right;\n",
              "    }\n",
              "</style>\n",
              "<table border=\"1\" class=\"dataframe\">\n",
              "  <thead>\n",
              "    <tr style=\"text-align: right;\">\n",
              "      <th></th>\n",
              "      <th>nome</th>\n",
              "      <th>regiao</th>\n",
              "      <th>freq</th>\n",
              "      <th>rank</th>\n",
              "      <th>sexo</th>\n",
              "    </tr>\n",
              "  </thead>\n",
              "  <tbody>\n",
              "    <tr>\n",
              "      <th>0</th>\n",
              "      <td>MARIA</td>\n",
              "      <td>0</td>\n",
              "      <td>11694738</td>\n",
              "      <td>1</td>\n",
              "      <td>F</td>\n",
              "    </tr>\n",
              "    <tr>\n",
              "      <th>1</th>\n",
              "      <td>ANA</td>\n",
              "      <td>0</td>\n",
              "      <td>3079729</td>\n",
              "      <td>2</td>\n",
              "      <td>F</td>\n",
              "    </tr>\n",
              "    <tr>\n",
              "      <th>2</th>\n",
              "      <td>FRANCISCA</td>\n",
              "      <td>0</td>\n",
              "      <td>721637</td>\n",
              "      <td>3</td>\n",
              "      <td>F</td>\n",
              "    </tr>\n",
              "    <tr>\n",
              "      <th>3</th>\n",
              "      <td>ANTONIA</td>\n",
              "      <td>0</td>\n",
              "      <td>588783</td>\n",
              "      <td>4</td>\n",
              "      <td>F</td>\n",
              "    </tr>\n",
              "    <tr>\n",
              "      <th>4</th>\n",
              "      <td>ADRIANA</td>\n",
              "      <td>0</td>\n",
              "      <td>565621</td>\n",
              "      <td>5</td>\n",
              "      <td>F</td>\n",
              "    </tr>\n",
              "    <tr>\n",
              "      <th>...</th>\n",
              "      <td>...</td>\n",
              "      <td>...</td>\n",
              "      <td>...</td>\n",
              "      <td>...</td>\n",
              "      <td>...</td>\n",
              "    </tr>\n",
              "    <tr>\n",
              "      <th>19995</th>\n",
              "      <td>RUBIAN</td>\n",
              "      <td>0</td>\n",
              "      <td>265</td>\n",
              "      <td>9993</td>\n",
              "      <td>M</td>\n",
              "    </tr>\n",
              "    <tr>\n",
              "      <th>19996</th>\n",
              "      <td>LIZEU</td>\n",
              "      <td>0</td>\n",
              "      <td>265</td>\n",
              "      <td>9984</td>\n",
              "      <td>M</td>\n",
              "    </tr>\n",
              "    <tr>\n",
              "      <th>19997</th>\n",
              "      <td>CARKOS</td>\n",
              "      <td>0</td>\n",
              "      <td>265</td>\n",
              "      <td>10001</td>\n",
              "      <td>M</td>\n",
              "    </tr>\n",
              "    <tr>\n",
              "      <th>19998</th>\n",
              "      <td>CARLAN</td>\n",
              "      <td>0</td>\n",
              "      <td>265</td>\n",
              "      <td>9977</td>\n",
              "      <td>M</td>\n",
              "    </tr>\n",
              "    <tr>\n",
              "      <th>19999</th>\n",
              "      <td>CARLOA</td>\n",
              "      <td>0</td>\n",
              "      <td>265</td>\n",
              "      <td>9991</td>\n",
              "      <td>M</td>\n",
              "    </tr>\n",
              "  </tbody>\n",
              "</table>\n",
              "<p>20000 rows × 5 columns</p>\n",
              "</div>"
            ],
            "text/plain": [
              "            nome  regiao      freq   rank sexo\n",
              "0          MARIA       0  11694738      1    F\n",
              "1            ANA       0   3079729      2    F\n",
              "2      FRANCISCA       0    721637      3    F\n",
              "3        ANTONIA       0    588783      4    F\n",
              "4        ADRIANA       0    565621      5    F\n",
              "...          ...     ...       ...    ...  ...\n",
              "19995     RUBIAN       0       265   9993    M\n",
              "19996      LIZEU       0       265   9984    M\n",
              "19997     CARKOS       0       265  10001    M\n",
              "19998     CARLAN       0       265   9977    M\n",
              "19999     CARLOA       0       265   9991    M\n",
              "\n",
              "[20000 rows x 5 columns]"
            ]
          },
          "execution_count": 26,
          "metadata": {},
          "output_type": "execute_result"
        }
      ],
      "source": [
        "df = pd.read_csv('arquivo_concatenado.csv')\n",
        "df"
      ]
    },
    {
      "cell_type": "code",
      "execution_count": null,
      "id": "f0379234",
      "metadata": {
        "id": "f0379234"
      },
      "outputs": [],
      "source": [
        "df = df.drop(columns=['regiao'])"
      ]
    },
    {
      "cell_type": "code",
      "execution_count": null,
      "id": "098f0a84",
      "metadata": {
        "id": "098f0a84",
        "outputId": "08896392-96cc-4ccf-df24-5e88350cc71f"
      },
      "outputs": [
        {
          "name": "stdout",
          "output_type": "stream",
          "text": [
            "        nome      freq  rank sexo\n",
            "0      MARIA  11694738     1    F\n",
            "1        ANA   3079729     2    F\n",
            "2  FRANCISCA    721637     3    F\n",
            "3    ANTONIA    588783     4    F\n",
            "4    ADRIANA    565621     5    F\n"
          ]
        }
      ],
      "source": [
        "print(df.head())"
      ]
    },
    {
      "cell_type": "code",
      "execution_count": null,
      "id": "57d80816",
      "metadata": {
        "id": "57d80816",
        "outputId": "2d356be8-f139-464c-86ec-11ac8cfa18e7"
      },
      "outputs": [
        {
          "name": "stdout",
          "output_type": "stream",
          "text": [
            "         nome  freq   rank sexo\n",
            "19995  RUBIAN   265   9993    M\n",
            "19996   LIZEU   265   9984    M\n",
            "19997  CARKOS   265  10001    M\n",
            "19998  CARLAN   265   9977    M\n",
            "19999  CARLOA   265   9991    M\n"
          ]
        }
      ],
      "source": [
        "print(df.tail())"
      ]
    },
    {
      "cell_type": "code",
      "execution_count": null,
      "id": "8c2c9230",
      "metadata": {
        "id": "8c2c9230",
        "outputId": "f757eea1-ddc6-4bb9-d3f6-db9f07a1da78"
      },
      "outputs": [
        {
          "name": "stdout",
          "output_type": "stream",
          "text": [
            "<class 'pandas.core.frame.DataFrame'>\n",
            "RangeIndex: 20000 entries, 0 to 19999\n",
            "Data columns (total 4 columns):\n",
            " #   Column  Non-Null Count  Dtype \n",
            "---  ------  --------------  ----- \n",
            " 0   nome    20000 non-null  object\n",
            " 1   freq    20000 non-null  int64 \n",
            " 2   rank    20000 non-null  int64 \n",
            " 3   sexo    20000 non-null  object\n",
            "dtypes: int64(2), object(2)\n",
            "memory usage: 625.1+ KB\n",
            "None\n"
          ]
        }
      ],
      "source": [
        "print(df.info())"
      ]
    },
    {
      "cell_type": "code",
      "execution_count": null,
      "id": "d8b3d171",
      "metadata": {
        "id": "d8b3d171",
        "outputId": "c49b793a-2e38-471a-ac4b-31ac97c3c1e4"
      },
      "outputs": [
        {
          "name": "stdout",
          "output_type": "stream",
          "text": [
            "count    20000.000000\n",
            "mean      5000.504950\n",
            "std       2886.832079\n",
            "min          1.000000\n",
            "25%       2500.750000\n",
            "50%       5000.500000\n",
            "75%       7500.250000\n",
            "max      10014.000000\n",
            "Name: rank, dtype: float64\n"
          ]
        }
      ],
      "source": [
        "print(df['rank'].describe())"
      ]
    },
    {
      "cell_type": "code",
      "execution_count": null,
      "id": "6483f25e",
      "metadata": {
        "id": "6483f25e",
        "outputId": "90b764bb-4462-4bc7-944f-6211774fcf29"
      },
      "outputs": [
        {
          "name": "stdout",
          "output_type": "stream",
          "text": [
            "Proporção genero: sexo\n",
            "F    0.5\n",
            "M    0.5\n",
            "Name: proportion, dtype: float64\n"
          ]
        }
      ],
      "source": [
        "proporcao_genero = df['sexo'].value_counts(normalize=True)\n",
        "print('Proporção genero:',proporcao_genero)"
      ]
    },
    {
      "cell_type": "code",
      "execution_count": null,
      "id": "211c592b",
      "metadata": {
        "id": "211c592b",
        "outputId": "cb636662-e843-4624-d970-90cdb1c279e3"
      },
      "outputs": [
        {
          "name": "stdout",
          "output_type": "stream",
          "text": [
            "               freq  rank sexo\n",
            "nome                          \n",
            "MARIA      11734129   282   FM\n",
            "JOSE        5754529   548   FM\n",
            "ANA         3089858   755   FM\n",
            "JOAO        2984119   790   FM\n",
            "ANTONIO     2576348  1008   FM\n",
            "FRANCISCO   1772197  1174   FM\n",
            "CARLOS      1489191  1292   FM\n",
            "PAULO       1423262  1422   FM\n",
            "PEDRO       1219605  1302   FM\n",
            "LUCAS       1127310   894   FM\n"
          ]
        }
      ],
      "source": [
        "#Nomes mais comuns\n",
        "nomes_mais_comuns = df.groupby('nome').sum().sort_values(by='freq', ascending=False).head(10)\n",
        "print(nomes_mais_comuns)"
      ]
    },
    {
      "cell_type": "code",
      "execution_count": null,
      "id": "845b6135",
      "metadata": {
        "id": "845b6135",
        "outputId": "2bd2cc5b-8799-4609-f954-74d7c8bff602"
      },
      "outputs": [
        {
          "name": "stdout",
          "output_type": "stream",
          "text": [
            "            freq  rank sexo\n",
            "nome                       \n",
            "RUBIAN       265  9993    M\n",
            "LEOZIR       265  9992    M\n",
            "MARONE       265  9981    M\n",
            "KENID        265  9983    M\n",
            "DEUSDEDITH   265  9982    M\n",
            "NEILTO       265  9988    M\n",
            "CLAUDEONOR   265  9995    M\n",
            "LIZEU        265  9984    M\n",
            "CARLOA       265  9991    M\n",
            "JAILAN       265  9980    M\n"
          ]
        }
      ],
      "source": [
        "#Nomes menos comuns\n",
        "nomes_menos_comuns = df.groupby('nome').sum().sort_values(by='freq', ascending=True).head(10)\n",
        "print(nomes_menos_comuns)"
      ]
    }
  ],
  "metadata": {
    "kernelspec": {
      "display_name": "Python 3 (ipykernel)",
      "language": "python",
      "name": "python3"
    },
    "language_info": {
      "codemirror_mode": {
        "name": "ipython",
        "version": 3
      },
      "file_extension": ".py",
      "mimetype": "text/x-python",
      "name": "python",
      "nbconvert_exporter": "python",
      "pygments_lexer": "ipython3",
      "version": "3.11.7"
    },
    "colab": {
      "provenance": [],
      "include_colab_link": true
    }
  },
  "nbformat": 4,
  "nbformat_minor": 5
}