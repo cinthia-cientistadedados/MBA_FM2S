{
  "cells": [
    {
      "cell_type": "markdown",
      "metadata": {
        "id": "view-in-github",
        "colab_type": "text"
      },
      "source": [
        "<a href=\"https://colab.research.google.com/github/cinthia-cientistadedados/cinthia-cientistadedados/blob/main/VisualizarDados.ipynb\" target=\"_parent\"><img src=\"https://colab.research.google.com/assets/colab-badge.svg\" alt=\"Open In Colab\"/></a>"
      ]
    },
    {
      "cell_type": "markdown",
      "source": [
        "A **visualização de dados** é um passo essencial na **Análise Exploratória de Dados (EDA)** e frequentemente precede análises mais avançadas ou modelagem. Este passo visa explorar e visualizar os dados para identificar padrões ou tendências.\n",
        "\n",
        "A atividade central deste passo é verificar gráficos, tabelas e estatísticas descritivas para explorar os dados.\n",
        "\n",
        "Ao visualizá-los, podemos identificar anomalias e erros nos dados que podem precisar de correção ou tratamento especial.\n",
        "\n",
        "Isso permite validar suposições e hipóteses iniciais sobre os dados, ou seja, podemos confirmar ou refutar nossas expectativas sobre como os dados se comportam."
      ],
      "metadata": {
        "id": "1lX1spl8-dbr"
      },
      "id": "1lX1spl8-dbr"
    },
    {
      "cell_type": "code",
      "source": [
        "import pandas as pd\n",
        "df = pd.read_csv('baseVendasCorrigida.csv')\n",
        "df"
      ],
      "metadata": {
        "id": "Kd-J8NPH__Ps"
      },
      "id": "Kd-J8NPH__Ps",
      "execution_count": null,
      "outputs": []
    },
    {
      "cell_type": "markdown",
      "id": "a8bf8ce3",
      "metadata": {
        "id": "a8bf8ce3"
      },
      "source": [
        "Verificando as primeiras linhas head()"
      ]
    },
    {
      "cell_type": "code",
      "execution_count": null,
      "id": "5aad60dd",
      "metadata": {
        "id": "5aad60dd",
        "outputId": "acb27d8d-45e3-47b7-a00d-8f3def365ecb"
      },
      "outputs": [
        {
          "name": "stdout",
          "output_type": "stream",
          "text": [
            "         Data Sigla    Venda   Ano        Região  Frete    Total\n",
            "0  2020-10-25    DF      NaN  2020  Centro Oeste     20      NaN\n",
            "1  2020-10-24    DF   375.00  2020  Centro Oeste     20   395.00\n",
            "2  2020-10-22    DF  5990.00  2020  Centro Oeste     20  6010.00\n",
            "3  2020-10-21    DF  1500.00  2020  Centro Oeste     20  1520.00\n",
            "4  2020-10-20    DF  1431.25  2020  Centro Oeste     20  1451.25\n"
          ]
        }
      ],
      "source": [
        "print(df.head())"
      ]
    },
    {
      "cell_type": "code",
      "execution_count": null,
      "id": "e6672727",
      "metadata": {
        "id": "e6672727"
      },
      "outputs": [],
      "source": [
        "Verificando as ltimas linhas tail()"
      ]
    },
    {
      "cell_type": "code",
      "execution_count": null,
      "id": "cc35922d",
      "metadata": {
        "id": "cc35922d",
        "outputId": "ad70b013-6620-4b10-9cd7-0e8563acbf48"
      },
      "outputs": [
        {
          "name": "stdout",
          "output_type": "stream",
          "text": [
            "            Data Sigla    Venda   Ano Região  Frete    Total\n",
            "9595  2019-03-03    SC  5000.00  2019    Sul    120  5120.00\n",
            "9596  2019-03-01    SC  5000.00  2019    Sul    120  5120.00\n",
            "9597  2019-02-28    SC  4826.25  2019    Sul    120  4946.25\n",
            "9598  2019-02-26    SC  4500.00  2019    Sul    120  4620.00\n",
            "9599  2019-02-25    SC   562.50  2019    Sul    120   682.50\n"
          ]
        }
      ],
      "source": [
        "print(df.tail())"
      ]
    },
    {
      "cell_type": "code",
      "execution_count": null,
      "id": "9dc58b5c",
      "metadata": {
        "id": "9dc58b5c"
      },
      "outputs": [],
      "source": [
        "Resumo estatístico descritico dos dados numericos Tota describe"
      ]
    },
    {
      "cell_type": "code",
      "execution_count": null,
      "id": "76e7d3d2",
      "metadata": {
        "id": "76e7d3d2",
        "outputId": "17af8b57-b249-4776-ec1c-68d941005b90"
      },
      "outputs": [
        {
          "name": "stdout",
          "output_type": "stream",
          "text": [
            "count     9599.000000\n",
            "mean      2486.940957\n",
            "std       1757.056932\n",
            "min        133.750000\n",
            "25%       1175.000000\n",
            "50%       2013.750000\n",
            "75%       3455.000000\n",
            "max      10057.500000\n",
            "Name: Total, dtype: float64\n"
          ]
        }
      ],
      "source": [
        "print(df['Total'].describe())"
      ]
    },
    {
      "cell_type": "markdown",
      "id": "6d497bed",
      "metadata": {
        "id": "6d497bed"
      },
      "source": [
        "Informações info()"
      ]
    },
    {
      "cell_type": "code",
      "execution_count": null,
      "id": "da159427",
      "metadata": {
        "id": "da159427",
        "outputId": "afce905f-c824-4854-caad-10cf0c9ca8ed"
      },
      "outputs": [
        {
          "name": "stdout",
          "output_type": "stream",
          "text": [
            "<class 'pandas.core.frame.DataFrame'>\n",
            "RangeIndex: 9600 entries, 0 to 9599\n",
            "Data columns (total 7 columns):\n",
            " #   Column  Non-Null Count  Dtype  \n",
            "---  ------  --------------  -----  \n",
            " 0   Data    9600 non-null   object \n",
            " 1   Sigla   9600 non-null   object \n",
            " 2   Venda   9599 non-null   float64\n",
            " 3   Ano     9600 non-null   int64  \n",
            " 4   Região  9600 non-null   object \n",
            " 5   Frete   9600 non-null   int64  \n",
            " 6   Total   9599 non-null   float64\n",
            "dtypes: float64(2), int64(2), object(3)\n",
            "memory usage: 525.1+ KB\n",
            "None\n"
          ]
        }
      ],
      "source": [
        "print(df.info())"
      ]
    },
    {
      "cell_type": "code",
      "execution_count": null,
      "id": "27052fbe",
      "metadata": {
        "id": "27052fbe"
      },
      "outputs": [],
      "source": [
        "Histograma hist()"
      ]
    },
    {
      "cell_type": "code",
      "execution_count": null,
      "id": "3e9a5c7b",
      "metadata": {
        "id": "3e9a5c7b",
        "outputId": "ef548283-664f-4aae-aa6d-6d9ba185f625"
      },
      "outputs": [
        {
          "data": {
            "text/plain": [
              "<Axes: >"
            ]
          },
          "execution_count": 9,
          "metadata": {},
          "output_type": "execute_result"
        },
        {
          "data": {
            "image/png": "[encoded data removed]",
            "text/plain": [
              "<Figure size 640x480 with 1 Axes>"
            ]
          },
          "metadata": {},
          "output_type": "display_data"
        }
      ],
      "source": [
        "df['Total'].hist()"
      ]
    },
    {
      "cell_type": "code",
      "execution_count": null,
      "id": "623b0098",
      "metadata": {
        "id": "623b0098"
      },
      "outputs": [],
      "source": [
        "Somando o total total.sum()"
      ]
    },
    {
      "cell_type": "code",
      "execution_count": null,
      "id": "6f5cd9f2",
      "metadata": {
        "id": "6f5cd9f2",
        "outputId": "ce08846e-79d1-4c48-a9e1-194e061639ff"
      },
      "outputs": [
        {
          "data": {
            "text/plain": [
              "23872146.25"
            ]
          },
          "execution_count": 10,
          "metadata": {},
          "output_type": "execute_result"
        }
      ],
      "source": [
        "df_total = df['Total'].sum()\n",
        "df_total"
      ]
    }
  ],
  "metadata": {
    "kernelspec": {
      "display_name": "Python 3 (ipykernel)",
      "language": "python",
      "name": "python3"
    },
    "language_info": {
      "codemirror_mode": {
        "name": "ipython",
        "version": 3
      },
      "file_extension": ".py",
      "mimetype": "text/x-python",
      "name": "python",
      "nbconvert_exporter": "python",
      "pygments_lexer": "ipython3",
      "version": "3.11.7"
    },
    "colab": {
      "provenance": [],
      "include_colab_link": true
    }
  },
  "nbformat": 4,
  "nbformat_minor": 5
}