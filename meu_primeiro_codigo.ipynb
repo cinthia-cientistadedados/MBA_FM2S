{
  "nbformat": 4,
  "nbformat_minor": 0,
  "metadata": {
    "colab": {
      "provenance": [],
      "authorship_tag": "ABX9TyMXGQGh0SwawR8Zg0PkCVL0",
      "include_colab_link": true
    },
    "kernelspec": {
      "name": "python3",
      "display_name": "Python 3"
    },
    "language_info": {
      "name": "python"
    }
  },
  "cells": [
    {
      "cell_type": "markdown",
      "metadata": {
        "id": "view-in-github",
        "colab_type": "text"
      },
      "source": [
        "<a href=\"https://colab.research.google.com/github/cinthia-cientistadedados/cinthia-cientistadedados/blob/main/meu_primeiro_codigo.ipynb\" target=\"_parent\"><img src=\"https://colab.research.google.com/assets/colab-badge.svg\" alt=\"Open In Colab\"/></a>"
      ]
    },
    {
      "cell_type": "code",
      "execution_count": null,
      "metadata": {
        "id": "7eRf_wJAIuWL"
      },
      "outputs": [],
      "source": []
    },
    {
      "cell_type": "markdown",
      "source": [
        "**negrito**"
      ],
      "metadata": {
        "id": "a2cSw6FPJJe8"
      }
    },
    {
      "cell_type": "code",
      "source": [
        "\"Helo World\"\n"
      ],
      "metadata": {
        "colab": {
          "base_uri": "https://localhost:8080/",
          "height": 35
        },
        "id": "-ZgFE0keLYZt",
        "outputId": "0acaa04c-08c7-49f9-dae5-af071aa203a2"
      },
      "execution_count": null,
      "outputs": [
        {
          "output_type": "execute_result",
          "data": {
            "text/plain": [
              "'Helo World'"
            ],
            "application/vnd.google.colaboratory.intrinsic+json": {
              "type": "string"
            }
          },
          "metadata": {},
          "execution_count": 1
        }
      ]
    },
    {
      "cell_type": "markdown",
      "source": [
        "Contas"
      ],
      "metadata": {
        "id": "44lt7_JSMONw"
      }
    },
    {
      "cell_type": "markdown",
      "source": [],
      "metadata": {
        "id": "q9YzCciFNDFE"
      }
    },
    {
      "cell_type": "code",
      "source": [
        "2+5\n",
        "10+2"
      ],
      "metadata": {
        "colab": {
          "base_uri": "https://localhost:8080/"
        },
        "id": "wxXmEMpFMRSI",
        "outputId": "092c3dd7-a856-46f4-ed04-2b1d2d99bce5"
      },
      "execution_count": null,
      "outputs": [
        {
          "output_type": "execute_result",
          "data": {
            "text/plain": [
              "12"
            ]
          },
          "metadata": {},
          "execution_count": 3
        }
      ]
    },
    {
      "cell_type": "code",
      "source": [
        "import this"
      ],
      "metadata": {
        "colab": {
          "base_uri": "https://localhost:8080/"
        },
        "id": "IRtSmZwSOuk3",
        "outputId": "5a4945c3-d57c-48fd-f9d0-d54d3f2e70b5"
      },
      "execution_count": null,
      "outputs": [
        {
          "output_type": "stream",
          "name": "stdout",
          "text": [
            "The Zen of Python, by Tim Peters\n",
            "\n",
            "Beautiful is better than ugly.\n",
            "Explicit is better than implicit.\n",
            "Simple is better than complex.\n",
            "Complex is better than complicated.\n",
            "Flat is better than nested.\n",
            "Sparse is better than dense.\n",
            "Readability counts.\n",
            "Special cases aren't special enough to break the rules.\n",
            "Although practicality beats purity.\n",
            "Errors should never pass silently.\n",
            "Unless explicitly silenced.\n",
            "In the face of ambiguity, refuse the temptation to guess.\n",
            "There should be one-- and preferably only one --obvious way to do it.\n",
            "Although that way may not be obvious at first unless you're Dutch.\n",
            "Now is better than never.\n",
            "Although never is often better than *right* now.\n",
            "If the implementation is hard to explain, it's a bad idea.\n",
            "If the implementation is easy to explain, it may be a good idea.\n",
            "Namespaces are one honking great idea -- let's do more of those!\n"
          ]
        }
      ]
    },
    {
      "cell_type": "code",
      "source": [
        "n1 = 2 + 5\n",
        "n2 = 10 + 2\n",
        "t1 = \"olá mundo\"\n",
        "print(n1)\n",
        "print(n2)\n",
        "print(t1)\n"
      ],
      "metadata": {
        "colab": {
          "base_uri": "https://localhost:8080/"
        },
        "id": "hzuY5jQlh8nM",
        "outputId": "809ff619-02ea-48e2-d2ca-9c226aeb9149"
      },
      "execution_count": null,
      "outputs": [
        {
          "output_type": "stream",
          "name": "stdout",
          "text": [
            "7\n",
            "12\n",
            "olá mundo\n"
          ]
        }
      ]
    },
    {
      "cell_type": "code",
      "source": [
        "s1 = n1 + n2\n",
        "print(s1)"
      ],
      "metadata": {
        "colab": {
          "base_uri": "https://localhost:8080/"
        },
        "id": "FGXfJG1tjWHT",
        "outputId": "6c008543-c63e-4dc2-8d55-69c754278e07"
      },
      "execution_count": null,
      "outputs": [
        {
          "output_type": "stream",
          "name": "stdout",
          "text": [
            "19\n"
          ]
        }
      ]
    },
    {
      "cell_type": "code",
      "source": [
        "print(t1,s1)"
      ],
      "metadata": {
        "colab": {
          "base_uri": "https://localhost:8080/"
        },
        "id": "Is2IR1pIjsUK",
        "outputId": "2add1673-0ffc-4538-cfbc-e3a9db216db2"
      },
      "execution_count": null,
      "outputs": [
        {
          "output_type": "stream",
          "name": "stdout",
          "text": [
            "olá mundo 19\n"
          ]
        }
      ]
    },
    {
      "cell_type": "markdown",
      "source": [
        "**Exercício variáveis** Nome lógico, = recebe, separo as info por virgulas dentro do print(...,...)\n"
      ],
      "metadata": {
        "id": "RSfFl0AOl7ud"
      }
    },
    {
      "cell_type": "code",
      "source": [
        "nome = 'Cinthia'\n",
        "idade = 45\n",
        "peso = 40\n",
        "altura = 1.50\n",
        "print(nome,idade,peso,altura)\n",
        "\n",
        "print(type(nome))\n",
        "print(type(idade))\n",
        "print(type(peso))\n",
        "print(type(altura))\n"
      ],
      "metadata": {
        "colab": {
          "base_uri": "https://localhost:8080/"
        },
        "id": "0mc9Zii_j9QM",
        "outputId": "211ecbc5-3c54-4230-f955-3ee74ebc6ccb"
      },
      "execution_count": null,
      "outputs": [
        {
          "output_type": "stream",
          "name": "stdout",
          "text": [
            "Cinthia 45 40 1.5\n",
            "<class 'str'>\n",
            "<class 'int'>\n",
            "<class 'int'>\n",
            "<class 'float'>\n"
          ]
        }
      ]
    },
    {
      "cell_type": "markdown",
      "source": [
        "**Variaveis com interatividade**"
      ],
      "metadata": {
        "id": "UY-5tBG3oe3o"
      }
    },
    {
      "cell_type": "code",
      "source": [
        "nome = input('Qual o seu nome?')\n",
        "idade = int(input('Qual é a sua idade?'))\n",
        "print(nome, idade)\n",
        "type(idade)\n",
        "\n",
        "altura = input('Qual é sua altura?')\n",
        "peso = input('Qual é seu peso?')\n",
        "imc = altura + peso\n",
        "\n",
        "print(imc)"
      ],
      "metadata": {
        "colab": {
          "base_uri": "https://localhost:8080/"
        },
        "id": "X3AuN2kGomp-",
        "outputId": "55059529-6c5e-4417-fcdd-c807e5d4c6db"
      },
      "execution_count": null,
      "outputs": [
        {
          "output_type": "stream",
          "name": "stdout",
          "text": [
            "Qual o seu nome?Cinthia\n",
            "Qual é a sua idade?45\n",
            "Cinthia 45\n",
            "Qual é sua alura?1.50\n",
            "Qual é seu peso?40\n",
            "1.5040\n"
          ]
        }
      ]
    },
    {
      "cell_type": "code",
      "source": [
        "altura = float(input('Qual é sua altura?'))\n",
        "peso = float(input('Qual é seu peso?'))\n",
        "imc = peso/altura**2\n",
        "\n",
        "print('Seu IMC é:', imc)\n",
        "print('O peso é{}'.format(peso))"
      ],
      "metadata": {
        "colab": {
          "base_uri": "https://localhost:8080/"
        },
        "id": "D-OM6jYvtPsQ",
        "outputId": "2e28cdf9-6754-4b60-bba4-9fd30fd6d8d0"
      },
      "execution_count": null,
      "outputs": [
        {
          "output_type": "stream",
          "name": "stdout",
          "text": [
            "Qual é sua alura?1.50\n",
            "Qual é seu peso?40\n",
            "Seu IMC é: 17.77777777777778\n",
            "O peso é40.0\n"
          ]
        }
      ]
    },
    {
      "cell_type": "markdown",
      "source": [
        "**calculo com variaveis**"
      ],
      "metadata": {
        "id": "nVuWWcmwwIxM"
      }
    },
    {
      "cell_type": "code",
      "source": [
        "n1 =10\n",
        "n2 = 20\n",
        "\n",
        "print(n1+n2)\n",
        "print(n1-n2)\n",
        "print(n1/n2)\n",
        "print(n1*n2)\n",
        "print(n1**n2)\n",
        "print(n1//n2)\n",
        "print(n1%n2)"
      ],
      "metadata": {
        "colab": {
          "base_uri": "https://localhost:8080/"
        },
        "id": "oq-kVbu6wO1N",
        "outputId": "be31dc21-9e70-4616-fc10-232cbaf78d58"
      },
      "execution_count": null,
      "outputs": [
        {
          "output_type": "stream",
          "name": "stdout",
          "text": [
            "30\n",
            "-10\n",
            "0.5\n",
            "200\n",
            "100000000000000000000\n",
            "0\n",
            "10\n"
          ]
        }
      ]
    },
    {
      "cell_type": "code",
      "source": [
        "eu = float(input('Qual o valor da sua comanda?'))\n",
        "amigo = float(input('Qual o valor da comanda do seu amigo?'))\n",
        "comanda = (eu + amigo) / 2\n",
        "print(comanda)"
      ],
      "metadata": {
        "colab": {
          "base_uri": "https://localhost:8080/"
        },
        "id": "bFWwkrabNARx",
        "outputId": "f60655fd-e119-4bdb-825d-8d679128837a"
      },
      "execution_count": null,
      "outputs": [
        {
          "output_type": "stream",
          "name": "stdout",
          "text": [
            "Qual o valor da sua comanda?20\n",
            "Qual o valor da comanda do seu amigo?150\n",
            "85.0\n"
          ]
        }
      ]
    },
    {
      "cell_type": "markdown",
      "source": [
        "Utilizando o format"
      ],
      "metadata": {
        "id": "E1T2azu5PXHo"
      }
    },
    {
      "cell_type": "code",
      "source": [
        "eu = float(input('Qual o valor da sua comanda?'))\n",
        "amigo = float(input('Qual o valor da comanda do seu amigo?'))\n",
        "comanda = (eu + amigo) / 2\n",
        "print('O valor da comanda é {:.2f}'.format(comanda))\n",
        "print('O valor da sua conta é {}, seu amigo gastou {} e o valor a dividir é {:.2f}'.format(eu, amigo, comanda))"
      ],
      "metadata": {
        "colab": {
          "base_uri": "https://localhost:8080/"
        },
        "id": "GJs6dmDoPRK4",
        "outputId": "64294b70-56ee-4b18-9d61-9c2e024f3044"
      },
      "execution_count": null,
      "outputs": [
        {
          "output_type": "stream",
          "name": "stdout",
          "text": [
            "Qual o valor da sua comanda?150\n",
            "Qual o valor da comanda do seu amigo?75\n",
            "O valor da comanda é 112.50\n",
            "O valor da sua conta é 150.0, seu amigo gastou 75.0 e o valor a dividir é 112.50\n"
          ]
        }
      ]
    },
    {
      "cell_type": "code",
      "source": [],
      "metadata": {
        "id": "hS_IljFtSCpd"
      },
      "execution_count": null,
      "outputs": []
    },
    {
      "cell_type": "markdown",
      "source": [
        "Operadores de comparação"
      ],
      "metadata": {
        "id": "dCVouh4TR_kY"
      }
    },
    {
      "cell_type": "code",
      "source": [
        "print(eu == amigo) #false\n",
        "print(eu != amigo) #true\n",
        "print(eu > amigo) #true\n",
        "print(eu < amigo) #false\n",
        "print(eu >= amigo) #true\n",
        "print(eu <= amigo) #false"
      ],
      "metadata": {
        "colab": {
          "base_uri": "https://localhost:8080/"
        },
        "id": "AggBJXjASDVk",
        "outputId": "efdbd4ae-c685-4a99-86ac-a7d176f041d9"
      },
      "execution_count": null,
      "outputs": [
        {
          "output_type": "stream",
          "name": "stdout",
          "text": [
            "False\n",
            "True\n",
            "True\n",
            "False\n",
            "True\n",
            "False\n"
          ]
        }
      ]
    },
    {
      "cell_type": "markdown",
      "source": [
        "Operadores Lógicos"
      ],
      "metadata": {
        "id": "Ezdz5tYCWc-w"
      }
    },
    {
      "cell_type": "code",
      "source": [
        "print(eu > amigo and eu > 500)\n",
        "print(eu > amigo or eu > 500 )\n"
      ],
      "metadata": {
        "colab": {
          "base_uri": "https://localhost:8080/"
        },
        "id": "TV4y5O8IWh0m",
        "outputId": "9c8fef9a-8c03-4388-8dbe-927bcb2171c0"
      },
      "execution_count": null,
      "outputs": [
        {
          "output_type": "stream",
          "name": "stdout",
          "text": [
            "False\n",
            "True\n"
          ]
        }
      ]
    },
    {
      "cell_type": "markdown",
      "source": [
        "Operadores de Atribuição"
      ],
      "metadata": {
        "id": "-4MyiTagXR1S"
      }
    },
    {
      "cell_type": "code",
      "source": [
        "eu = 10\n",
        "voce = 5\n",
        "\n",
        "voce += eu\n",
        "print(voce)\n",
        "\n",
        "voce -= eu\n",
        "print (voce)\n",
        "\n",
        "voce *= eu\n",
        "print(voce)\n",
        "\n",
        "voce /= eu\n",
        "print (voce)\n",
        "\n",
        "\n"
      ],
      "metadata": {
        "colab": {
          "base_uri": "https://localhost:8080/"
        },
        "id": "g9qZWskdXUj4",
        "outputId": "93b9469f-3e3a-4e3d-8c79-7d5d3a810a5a"
      },
      "execution_count": null,
      "outputs": [
        {
          "output_type": "stream",
          "name": "stdout",
          "text": [
            "15\n",
            "5\n",
            "50\n",
            "5.0\n"
          ]
        }
      ]
    },
    {
      "cell_type": "markdown",
      "source": [
        "Exercício 2 - imc"
      ],
      "metadata": {
        "id": "3fVlJIKYiFwg"
      }
    },
    {
      "cell_type": "code",
      "source": [
        "nome = 'Cinthia'\n",
        "altura = 1.50\n",
        "peso = 35\n",
        "print(nome,altura,peso)\n",
        "\n",
        "altura = float(input('Qual é a sua altura?'))\n",
        "peso = float(input('Qual é a sua peso?'))\n",
        "imc = peso / altura**2\n",
        "print('seu IMC é:', imc)\n",
        "print('Sua altura é {}, seu peso é {}, seu IMC é {:.2f}' .format(altura, peso, imc))\n"
      ],
      "metadata": {
        "colab": {
          "base_uri": "https://localhost:8080/"
        },
        "id": "eF6eBIZ0iTwr",
        "outputId": "8edb0b75-e6b5-4511-dc38-224c4d82d5bd"
      },
      "execution_count": 13,
      "outputs": [
        {
          "output_type": "stream",
          "name": "stdout",
          "text": [
            "Cinthia 1.5 35\n",
            "Qual é a sua altura?1.50\n",
            "Qual é a sua peso?35\n",
            "seu IMC é: 15.555555555555555\n",
            "Sua altura é 1.5, seu peso é 35.0, seu IMC é 15.56\n"
          ]
        }
      ]
    },
    {
      "cell_type": "code",
      "source": [
        "nascimento = 25/3/1980\n",
        "print(nascimento)\n",
        "type(nascimento)\n"
      ],
      "metadata": {
        "colab": {
          "base_uri": "https://localhost:8080/"
        },
        "id": "JzzRdH65yyKj",
        "outputId": "b2674360-dca5-44b6-e53d-f1a41a3895b3"
      },
      "execution_count": 14,
      "outputs": [
        {
          "output_type": "stream",
          "name": "stdout",
          "text": [
            "0.004208754208754209\n"
          ]
        },
        {
          "output_type": "execute_result",
          "data": {
            "text/plain": [
              "float"
            ]
          },
          "metadata": {},
          "execution_count": 14
        }
      ]
    },
    {
      "cell_type": "markdown",
      "source": [
        "**Importando Biblioteca** from datetime import date = date(1980,3,25) print(data) type(data)"
      ],
      "metadata": {
        "id": "LHnrzBlkzqCx"
      }
    },
    {
      "cell_type": "code",
      "source": [
        "from datetime import date\n",
        "data = date (1980,3,25)\n",
        "print(data)\n",
        "type(data)"
      ],
      "metadata": {
        "colab": {
          "base_uri": "https://localhost:8080/"
        },
        "id": "HdQf8ngD0mif",
        "outputId": "d392ab1e-c84e-4f96-fa53-cae2c0bf2e93"
      },
      "execution_count": 15,
      "outputs": [
        {
          "output_type": "stream",
          "name": "stdout",
          "text": [
            "1980-03-25\n"
          ]
        },
        {
          "output_type": "execute_result",
          "data": {
            "text/plain": [
              "datetime.date"
            ]
          },
          "metadata": {},
          "execution_count": 15
        }
      ]
    },
    {
      "cell_type": "markdown",
      "source": [
        "**Importando random** import random\n",
        "n1 = random.randint(1,10) print(n1)"
      ],
      "metadata": {
        "id": "HSMAcPpR1prP"
      }
    },
    {
      "cell_type": "code",
      "source": [
        "import random\n",
        "n1=random.randint(1,10)\n",
        "print(n1)\n"
      ],
      "metadata": {
        "colab": {
          "base_uri": "https://localhost:8080/"
        },
        "id": "AtXogvzb2pKC",
        "outputId": "a594fa36-5119-4941-8547-2f478e2756c8"
      },
      "execution_count": 21,
      "outputs": [
        {
          "output_type": "stream",
          "name": "stdout",
          "text": [
            "6\n"
          ]
        }
      ]
    },
    {
      "cell_type": "markdown",
      "source": [
        "**Importando emoji-**"
      ],
      "metadata": {
        "id": "pCYtMJLk3IwG"
      }
    },
    {
      "cell_type": "code",
      "source": [
        "!pip install emoji\n",
        "import emoji\n",
        "\n",
        "joinha = emoji.emojize('Python é:thumbs_up:', language='pt')\n",
        "print(joinha)"
      ],
      "metadata": {
        "colab": {
          "base_uri": "https://localhost:8080/"
        },
        "id": "yOgEZpFg3SuN",
        "outputId": "4464c652-46de-45d9-c6be-cedc7e5ff1c9"
      },
      "execution_count": 29,
      "outputs": [
        {
          "output_type": "stream",
          "name": "stdout",
          "text": [
            "Requirement already satisfied: emoji in /usr/local/lib/python3.11/dist-packages (2.14.1)\n",
            "Python é:thumbs_up:\n"
          ]
        }
      ]
    },
    {
      "cell_type": "code",
      "source": [
        "joinha = emoji.emojize('O mundo é é:polegar_para_cima:', language='pt')\n",
        "print(joinha)\n",
        "coração = emoji.emojize('Deus é apaixonante :coração_vermelho:', language='pt')\n",
        "print(coração)"
      ],
      "metadata": {
        "colab": {
          "base_uri": "https://localhost:8080/"
        },
        "id": "xPdPBJrS50Mx",
        "outputId": "5fd969b7-ea43-49b3-94e4-9dfc7bf8add5"
      },
      "execution_count": 45,
      "outputs": [
        {
          "output_type": "stream",
          "name": "stdout",
          "text": [
            "O mundo é é👍\n",
            "Deus é apaixonante ❤️\n",
            "Estou radiante ☀️\n"
          ]
        }
      ]
    }
  ]
}
