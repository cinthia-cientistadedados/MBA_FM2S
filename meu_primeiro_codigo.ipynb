{
  "nbformat": 4,
  "nbformat_minor": 0,
  "metadata": {
    "colab": {
      "provenance": [],
      "authorship_tag": "ABX9TyNC/WTuxqli9V4Vx66uYIt9",
      "include_colab_link": true
    },
    "kernelspec": {
      "name": "python3",
      "display_name": "Python 3"
    },
    "language_info": {
      "name": "python"
    }
  },
  "cells": [
    {
      "cell_type": "markdown",
      "metadata": {
        "id": "view-in-github",
        "colab_type": "text"
      },
      "source": [
        "<a href=\"https://colab.research.google.com/github/cinthia-cientistadedados/cinthia-cientistadedados/blob/main/meu_primeiro_codigo.ipynb\" target=\"_parent\"><img src=\"https://colab.research.google.com/assets/colab-badge.svg\" alt=\"Open In Colab\"/></a>"
      ]
    },
    {
      "cell_type": "code",
      "execution_count": null,
      "metadata": {
        "id": "7eRf_wJAIuWL"
      },
      "outputs": [],
      "source": []
    },
    {
      "cell_type": "markdown",
      "source": [
        "**negrito**"
      ],
      "metadata": {
        "id": "a2cSw6FPJJe8"
      }
    },
    {
      "cell_type": "code",
      "source": [
        "\"Helo World\"\n"
      ],
      "metadata": {
        "colab": {
          "base_uri": "https://localhost:8080/",
          "height": 35
        },
        "id": "-ZgFE0keLYZt",
        "outputId": "0acaa04c-08c7-49f9-dae5-af071aa203a2"
      },
      "execution_count": null,
      "outputs": [
        {
          "output_type": "execute_result",
          "data": {
            "text/plain": [
              "'Helo World'"
            ],
            "application/vnd.google.colaboratory.intrinsic+json": {
              "type": "string"
            }
          },
          "metadata": {},
          "execution_count": 1
        }
      ]
    },
    {
      "cell_type": "markdown",
      "source": [
        "Contas"
      ],
      "metadata": {
        "id": "44lt7_JSMONw"
      }
    },
    {
      "cell_type": "markdown",
      "source": [],
      "metadata": {
        "id": "q9YzCciFNDFE"
      }
    },
    {
      "cell_type": "code",
      "source": [
        "2+5\n",
        "10+2"
      ],
      "metadata": {
        "colab": {
          "base_uri": "https://localhost:8080/"
        },
        "id": "wxXmEMpFMRSI",
        "outputId": "092c3dd7-a856-46f4-ed04-2b1d2d99bce5"
      },
      "execution_count": null,
      "outputs": [
        {
          "output_type": "execute_result",
          "data": {
            "text/plain": [
              "12"
            ]
          },
          "metadata": {},
          "execution_count": 3
        }
      ]
    },
    {
      "cell_type": "code",
      "source": [
        "import this"
      ],
      "metadata": {
        "colab": {
          "base_uri": "https://localhost:8080/"
        },
        "id": "IRtSmZwSOuk3",
        "outputId": "5a4945c3-d57c-48fd-f9d0-d54d3f2e70b5"
      },
      "execution_count": null,
      "outputs": [
        {
          "output_type": "stream",
          "name": "stdout",
          "text": [
            "The Zen of Python, by Tim Peters\n",
            "\n",
            "Beautiful is better than ugly.\n",
            "Explicit is better than implicit.\n",
            "Simple is better than complex.\n",
            "Complex is better than complicated.\n",
            "Flat is better than nested.\n",
            "Sparse is better than dense.\n",
            "Readability counts.\n",
            "Special cases aren't special enough to break the rules.\n",
            "Although practicality beats purity.\n",
            "Errors should never pass silently.\n",
            "Unless explicitly silenced.\n",
            "In the face of ambiguity, refuse the temptation to guess.\n",
            "There should be one-- and preferably only one --obvious way to do it.\n",
            "Although that way may not be obvious at first unless you're Dutch.\n",
            "Now is better than never.\n",
            "Although never is often better than *right* now.\n",
            "If the implementation is hard to explain, it's a bad idea.\n",
            "If the implementation is easy to explain, it may be a good idea.\n",
            "Namespaces are one honking great idea -- let's do more of those!\n"
          ]
        }
      ]
    },
    {
      "cell_type": "code",
      "source": [
        "n1 = 2 + 5\n",
        "n2 = 10 + 2\n",
        "t1 = \"olá mundo\"\n",
        "print(n1)\n",
        "print(n2)\n",
        "print(t1)\n"
      ],
      "metadata": {
        "colab": {
          "base_uri": "https://localhost:8080/"
        },
        "id": "hzuY5jQlh8nM",
        "outputId": "809ff619-02ea-48e2-d2ca-9c226aeb9149"
      },
      "execution_count": null,
      "outputs": [
        {
          "output_type": "stream",
          "name": "stdout",
          "text": [
            "7\n",
            "12\n",
            "olá mundo\n"
          ]
        }
      ]
    },
    {
      "cell_type": "code",
      "source": [
        "s1 = n1 + n2\n",
        "print(s1)"
      ],
      "metadata": {
        "colab": {
          "base_uri": "https://localhost:8080/"
        },
        "id": "FGXfJG1tjWHT",
        "outputId": "6c008543-c63e-4dc2-8d55-69c754278e07"
      },
      "execution_count": null,
      "outputs": [
        {
          "output_type": "stream",
          "name": "stdout",
          "text": [
            "19\n"
          ]
        }
      ]
    },
    {
      "cell_type": "code",
      "source": [
        "print(t1,s1)"
      ],
      "metadata": {
        "colab": {
          "base_uri": "https://localhost:8080/"
        },
        "id": "Is2IR1pIjsUK",
        "outputId": "2add1673-0ffc-4538-cfbc-e3a9db216db2"
      },
      "execution_count": null,
      "outputs": [
        {
          "output_type": "stream",
          "name": "stdout",
          "text": [
            "olá mundo 19\n"
          ]
        }
      ]
    },
    {
      "cell_type": "markdown",
      "source": [
        "**Exercício variáveis** Nome lógico, = recebe, separo as info por virgulas dentro do print(...,...)\n"
      ],
      "metadata": {
        "id": "RSfFl0AOl7ud"
      }
    },
    {
      "cell_type": "code",
      "source": [
        "nome = 'Cinthia'\n",
        "idade = 45\n",
        "peso = 40\n",
        "altura = 1.50\n",
        "print(nome,idade,peso,altura)\n",
        "\n",
        "print(type(nome))\n",
        "print(type(idade))\n",
        "print(type(peso))\n",
        "print(type(altura))\n"
      ],
      "metadata": {
        "colab": {
          "base_uri": "https://localhost:8080/"
        },
        "id": "0mc9Zii_j9QM",
        "outputId": "211ecbc5-3c54-4230-f955-3ee74ebc6ccb"
      },
      "execution_count": null,
      "outputs": [
        {
          "output_type": "stream",
          "name": "stdout",
          "text": [
            "Cinthia 45 40 1.5\n",
            "<class 'str'>\n",
            "<class 'int'>\n",
            "<class 'int'>\n",
            "<class 'float'>\n"
          ]
        }
      ]
    },
    {
      "cell_type": "markdown",
      "source": [
        "**Variaveis com interatividade**"
      ],
      "metadata": {
        "id": "UY-5tBG3oe3o"
      }
    },
    {
      "cell_type": "code",
      "source": [
        "nome = input('Qual o seu nome?')\n",
        "idade = int(input('Qual é a sua idade?'))\n",
        "print(nome, idade)\n",
        "type(idade)\n",
        "\n",
        "altura = input('Qual é sua altura?')\n",
        "peso = input('Qual é seu peso?')\n",
        "imc = altura + peso\n",
        "\n",
        "print(imc)"
      ],
      "metadata": {
        "colab": {
          "base_uri": "https://localhost:8080/"
        },
        "id": "X3AuN2kGomp-",
        "outputId": "55059529-6c5e-4417-fcdd-c807e5d4c6db"
      },
      "execution_count": null,
      "outputs": [
        {
          "output_type": "stream",
          "name": "stdout",
          "text": [
            "Qual o seu nome?Cinthia\n",
            "Qual é a sua idade?45\n",
            "Cinthia 45\n",
            "Qual é sua alura?1.50\n",
            "Qual é seu peso?40\n",
            "1.5040\n"
          ]
        }
      ]
    },
    {
      "cell_type": "code",
      "source": [
        "altura = float(input('Qual é sua altura?'))\n",
        "peso = float(input('Qual é seu peso?'))\n",
        "imc = peso/altura**2\n",
        "\n",
        "print('Seu IMC é:', imc)\n",
        "print('O peso é{}'.format(peso))"
      ],
      "metadata": {
        "colab": {
          "base_uri": "https://localhost:8080/"
        },
        "id": "D-OM6jYvtPsQ",
        "outputId": "2e28cdf9-6754-4b60-bba4-9fd30fd6d8d0"
      },
      "execution_count": null,
      "outputs": [
        {
          "output_type": "stream",
          "name": "stdout",
          "text": [
            "Qual é sua alura?1.50\n",
            "Qual é seu peso?40\n",
            "Seu IMC é: 17.77777777777778\n",
            "O peso é40.0\n"
          ]
        }
      ]
    },
    {
      "cell_type": "markdown",
      "source": [
        "**calculo com variaveis**"
      ],
      "metadata": {
        "id": "nVuWWcmwwIxM"
      }
    },
    {
      "cell_type": "code",
      "source": [
        "n1 =10\n",
        "n2 = 20\n",
        "\n",
        "print(n1+n2)\n",
        "print(n1-n2)\n",
        "print(n1/n2)\n",
        "print(n1*n2)\n",
        "print(n1**n2)\n",
        "print(n1//n2)\n",
        "print(n1%n2)"
      ],
      "metadata": {
        "colab": {
          "base_uri": "https://localhost:8080/"
        },
        "id": "oq-kVbu6wO1N",
        "outputId": "be31dc21-9e70-4616-fc10-232cbaf78d58"
      },
      "execution_count": null,
      "outputs": [
        {
          "output_type": "stream",
          "name": "stdout",
          "text": [
            "30\n",
            "-10\n",
            "0.5\n",
            "200\n",
            "100000000000000000000\n",
            "0\n",
            "10\n"
          ]
        }
      ]
    },
    {
      "cell_type": "code",
      "source": [
        "eu = float(input('Qual o valor da sua comanda?'))\n",
        "amigo = float(input('Qual o valor da comanda do seu amigo?'))\n",
        "comanda = (eu + amigo) / 2\n",
        "print(comanda)"
      ],
      "metadata": {
        "colab": {
          "base_uri": "https://localhost:8080/"
        },
        "id": "bFWwkrabNARx",
        "outputId": "f60655fd-e119-4bdb-825d-8d679128837a"
      },
      "execution_count": null,
      "outputs": [
        {
          "output_type": "stream",
          "name": "stdout",
          "text": [
            "Qual o valor da sua comanda?20\n",
            "Qual o valor da comanda do seu amigo?150\n",
            "85.0\n"
          ]
        }
      ]
    },
    {
      "cell_type": "markdown",
      "source": [
        "Utilizando o format"
      ],
      "metadata": {
        "id": "E1T2azu5PXHo"
      }
    },
    {
      "cell_type": "code",
      "source": [
        "eu = float(input('Qual o valor da sua comanda?'))\n",
        "amigo = float(input('Qual o valor da comanda do seu amigo?'))\n",
        "comanda = (eu + amigo) / 2\n",
        "print('O valor da comanda é {:.2f}'.format(comanda))\n",
        "print('O valor da sua conta é {}, seu amigo gastou {} e o valor a dividir é {:.2f}'.format(eu, amigo, comanda))"
      ],
      "metadata": {
        "colab": {
          "base_uri": "https://localhost:8080/"
        },
        "id": "GJs6dmDoPRK4",
        "outputId": "64294b70-56ee-4b18-9d61-9c2e024f3044"
      },
      "execution_count": null,
      "outputs": [
        {
          "output_type": "stream",
          "name": "stdout",
          "text": [
            "Qual o valor da sua comanda?150\n",
            "Qual o valor da comanda do seu amigo?75\n",
            "O valor da comanda é 112.50\n",
            "O valor da sua conta é 150.0, seu amigo gastou 75.0 e o valor a dividir é 112.50\n"
          ]
        }
      ]
    },
    {
      "cell_type": "code",
      "source": [],
      "metadata": {
        "id": "hS_IljFtSCpd"
      },
      "execution_count": null,
      "outputs": []
    },
    {
      "cell_type": "markdown",
      "source": [
        "Operadores de comparação"
      ],
      "metadata": {
        "id": "dCVouh4TR_kY"
      }
    },
    {
      "cell_type": "code",
      "source": [
        "print(eu == amigo) #false\n",
        "print(eu != amigo) #true\n",
        "print(eu > amigo) #true\n",
        "print(eu < amigo) #false\n",
        "print(eu >= amigo) #true\n",
        "print(eu <= amigo) #false"
      ],
      "metadata": {
        "colab": {
          "base_uri": "https://localhost:8080/"
        },
        "id": "AggBJXjASDVk",
        "outputId": "efdbd4ae-c685-4a99-86ac-a7d176f041d9"
      },
      "execution_count": null,
      "outputs": [
        {
          "output_type": "stream",
          "name": "stdout",
          "text": [
            "False\n",
            "True\n",
            "True\n",
            "False\n",
            "True\n",
            "False\n"
          ]
        }
      ]
    },
    {
      "cell_type": "markdown",
      "source": [
        "Operadores Lógicos"
      ],
      "metadata": {
        "id": "Ezdz5tYCWc-w"
      }
    },
    {
      "cell_type": "code",
      "source": [
        "print(eu > amigo and eu > 500)\n",
        "print(eu > amigo or eu > 500 )\n"
      ],
      "metadata": {
        "colab": {
          "base_uri": "https://localhost:8080/"
        },
        "id": "TV4y5O8IWh0m",
        "outputId": "9c8fef9a-8c03-4388-8dbe-927bcb2171c0"
      },
      "execution_count": null,
      "outputs": [
        {
          "output_type": "stream",
          "name": "stdout",
          "text": [
            "False\n",
            "True\n"
          ]
        }
      ]
    },
    {
      "cell_type": "markdown",
      "source": [
        "Operadores de Atribuição"
      ],
      "metadata": {
        "id": "-4MyiTagXR1S"
      }
    },
    {
      "cell_type": "code",
      "source": [
        "eu = 10\n",
        "voce = 5\n",
        "\n",
        "voce += eu\n",
        "print(voce)\n",
        "\n",
        "voce -= eu\n",
        "print (voce)\n",
        "\n",
        "voce *= eu\n",
        "print(voce)\n",
        "\n",
        "voce /= eu\n",
        "print (voce)\n",
        "\n",
        "\n"
      ],
      "metadata": {
        "colab": {
          "base_uri": "https://localhost:8080/"
        },
        "id": "g9qZWskdXUj4",
        "outputId": "93b9469f-3e3a-4e3d-8c79-7d5d3a810a5a"
      },
      "execution_count": null,
      "outputs": [
        {
          "output_type": "stream",
          "name": "stdout",
          "text": [
            "15\n",
            "5\n",
            "50\n",
            "5.0\n"
          ]
        }
      ]
    },
    {
      "cell_type": "markdown",
      "source": [
        "Exercício 2 - imc"
      ],
      "metadata": {
        "id": "3fVlJIKYiFwg"
      }
    },
    {
      "cell_type": "code",
      "source": [
        "nome = 'Cinthia'\n",
        "altura = 1.50\n",
        "peso = 35\n",
        "print(nome,altura,peso)\n",
        "\n",
        "altura = float(input('Qual é a sua altura?'))\n",
        "peso = float(input('Qual é a sua peso?'))\n",
        "imc = peso / altura**2\n",
        "print('seu IMC é:', imc)\n",
        "print('Sua altura é {}, seu peso é {}, seu IMC é {:.2f}' .format(altura, peso, imc))\n"
      ],
      "metadata": {
        "colab": {
          "base_uri": "https://localhost:8080/"
        },
        "id": "eF6eBIZ0iTwr",
        "outputId": "8edb0b75-e6b5-4511-dc38-224c4d82d5bd"
      },
      "execution_count": null,
      "outputs": [
        {
          "output_type": "stream",
          "name": "stdout",
          "text": [
            "Cinthia 1.5 35\n",
            "Qual é a sua altura?1.50\n",
            "Qual é a sua peso?35\n",
            "seu IMC é: 15.555555555555555\n",
            "Sua altura é 1.5, seu peso é 35.0, seu IMC é 15.56\n"
          ]
        }
      ]
    },
    {
      "cell_type": "code",
      "source": [
        "nascimento = 25/3/1980\n",
        "print(nascimento)\n",
        "type(nascimento)\n"
      ],
      "metadata": {
        "colab": {
          "base_uri": "https://localhost:8080/"
        },
        "id": "JzzRdH65yyKj",
        "outputId": "b2674360-dca5-44b6-e53d-f1a41a3895b3"
      },
      "execution_count": null,
      "outputs": [
        {
          "output_type": "stream",
          "name": "stdout",
          "text": [
            "0.004208754208754209\n"
          ]
        },
        {
          "output_type": "execute_result",
          "data": {
            "text/plain": [
              "float"
            ]
          },
          "metadata": {},
          "execution_count": 14
        }
      ]
    },
    {
      "cell_type": "markdown",
      "source": [
        "**Importando Biblioteca** from datetime import date = date(1980,3,25) print(data) type(data)"
      ],
      "metadata": {
        "id": "LHnrzBlkzqCx"
      }
    },
    {
      "cell_type": "code",
      "source": [
        "from datetime import date\n",
        "data = date (1980,3,25)\n",
        "print(data)\n",
        "type(data)"
      ],
      "metadata": {
        "colab": {
          "base_uri": "https://localhost:8080/"
        },
        "id": "HdQf8ngD0mif",
        "outputId": "d392ab1e-c84e-4f96-fa53-cae2c0bf2e93"
      },
      "execution_count": null,
      "outputs": [
        {
          "output_type": "stream",
          "name": "stdout",
          "text": [
            "1980-03-25\n"
          ]
        },
        {
          "output_type": "execute_result",
          "data": {
            "text/plain": [
              "datetime.date"
            ]
          },
          "metadata": {},
          "execution_count": 15
        }
      ]
    },
    {
      "cell_type": "markdown",
      "source": [
        "**Importando random** import random\n",
        "n1 = random.randint(1,10) print(n1)"
      ],
      "metadata": {
        "id": "HSMAcPpR1prP"
      }
    },
    {
      "cell_type": "code",
      "source": [
        "import random\n",
        "n1=random.randint(1,10)\n",
        "print(n1)\n"
      ],
      "metadata": {
        "colab": {
          "base_uri": "https://localhost:8080/"
        },
        "id": "AtXogvzb2pKC",
        "outputId": "a594fa36-5119-4941-8547-2f478e2756c8"
      },
      "execution_count": null,
      "outputs": [
        {
          "output_type": "stream",
          "name": "stdout",
          "text": [
            "6\n"
          ]
        }
      ]
    },
    {
      "cell_type": "markdown",
      "source": [
        "**Importando emoji-**"
      ],
      "metadata": {
        "id": "pCYtMJLk3IwG"
      }
    },
    {
      "cell_type": "code",
      "source": [
        "!pip install emoji\n",
        "import emoji\n",
        "\n",
        "joinha = emoji.emojize('Python é:thumbs_up:', language='pt')\n",
        "print(joinha)"
      ],
      "metadata": {
        "colab": {
          "base_uri": "https://localhost:8080/"
        },
        "id": "yOgEZpFg3SuN",
        "outputId": "4464c652-46de-45d9-c6be-cedc7e5ff1c9"
      },
      "execution_count": null,
      "outputs": [
        {
          "output_type": "stream",
          "name": "stdout",
          "text": [
            "Requirement already satisfied: emoji in /usr/local/lib/python3.11/dist-packages (2.14.1)\n",
            "Python é:thumbs_up:\n"
          ]
        }
      ]
    },
    {
      "cell_type": "code",
      "source": [
        "joinha = emoji.emojize('O mundo é:polegar_para_cima:', language='pt')\n",
        "print(joinha)\n",
        "coração = emoji.emojize('Deus é apaixonante :coração_vermelho:', language='pt')\n",
        "print(coração)\n",
        "sol =emoji.emojize('Estou radiante :sol:', language='pt')\n",
        "print(sol)"
      ],
      "metadata": {
        "colab": {
          "base_uri": "https://localhost:8080/"
        },
        "id": "xPdPBJrS50Mx",
        "outputId": "e40dfee5-b386-4728-f244-33531cfc8ccb"
      },
      "execution_count": null,
      "outputs": [
        {
          "output_type": "stream",
          "name": "stdout",
          "text": [
            "O mundo é é👍\n",
            "Deus é apaixonante ❤️\n",
            "Estou radiante ☀️\n"
          ]
        }
      ]
    },
    {
      "cell_type": "markdown",
      "source": [
        "**Exercício random**"
      ],
      "metadata": {
        "id": "5TX0sPIcctmX"
      }
    },
    {
      "cell_type": "code",
      "source": [
        "import random\n",
        "\n",
        "n1 =str(input('Digite um nome: '))\n",
        "n2 = str(input('Digite outro nome: '))\n",
        "n3 = str(input('Digite mais um nome: '))\n",
        "\n",
        "aleatorio = (n1, n2, n3)\n",
        "escolhido = random.choice(aleatorio)\n",
        "print('o nome escolhido é {} ' .format(escolhido))"
      ],
      "metadata": {
        "colab": {
          "base_uri": "https://localhost:8080/"
        },
        "id": "kxltyhhhc70l",
        "outputId": "04e55dc9-fa02-45d7-f32b-0003c43b25f1"
      },
      "execution_count": null,
      "outputs": [
        {
          "output_type": "stream",
          "name": "stdout",
          "text": [
            "Digite um nome: Tequila\n",
            "Digite outro nome: Decio\n",
            "Digite mais um nome: Mel\n",
            "o nome escolhido é Tequila \n"
          ]
        }
      ]
    },
    {
      "cell_type": "markdown",
      "source": [
        "**Controle de Fluxo - if**\n",
        "Condições\n",
        "*se* viagem.temperatura():\n",
        "viagem.mala\n",
        "viagem.trabalho\n",
        "viagem.estrada\n",
        "*senão:*\n",
        "viagem.trabalho\n",
        "viagem.casa\n",
        "viagem.mala\n",
        "viagem.estrada\n",
        "\n",
        "viagem.comer\n",
        "viagem.descansar\n",
        "\n"
      ],
      "metadata": {
        "id": "eNhIBjv-jTVq"
      }
    },
    {
      "cell_type": "code",
      "source": [
        "temperatura = float(input('Qual a temperatura? '))\n",
        "if temperatura > 27:\n",
        "  print('Vamos para a praia')\n",
        "else:\n",
        "  print('Vamos para o campo')\n",
        "  print('Parar para comer')\n"
      ],
      "metadata": {
        "colab": {
          "base_uri": "https://localhost:8080/"
        },
        "id": "0KQdUZL3jZ7-",
        "outputId": "90b20f43-06f9-4061-b983-151656118f92"
      },
      "execution_count": null,
      "outputs": [
        {
          "output_type": "stream",
          "name": "stdout",
          "text": [
            "Qual a temperatura? 25\n",
            "Vamos para o campo\n",
            "Parar para comer\n"
          ]
        }
      ]
    },
    {
      "cell_type": "markdown",
      "source": [
        "**Exercício - if simples**\n",
        "Peça para o usuário digitar 2 nota\n",
        "Calcule a média\n",
        "Verifique se a média for maior que 6\n",
        "*então* aprovado, se a nota for menor que 5 *então* reprovado, caso contrário ele estará em recuperação\n",
        "No final informe a situação e a média"
      ],
      "metadata": {
        "id": "FFlblRjemA97"
      }
    },
    {
      "cell_type": "code",
      "source": [
        "nota = float(input('Digite uma nota '))\n",
        "nota2 = float(input('Digite a outra nota '))\n",
        "media = (nota + nota2)/2\n",
        "\n",
        "if media >= 6:\n",
        "  print('Aprovado')\n",
        "elif media < 5:\n",
        "  print('Reprovado')\n",
        "else:\n",
        "  print('Recuperação')\n",
        "\n",
        "print('A sua média foi {}' .format(media))\n",
        "\n",
        "\n"
      ],
      "metadata": {
        "colab": {
          "base_uri": "https://localhost:8080/"
        },
        "id": "LVfznkF0mYQ1",
        "outputId": "a24c9a90-25b3-40b3-af97-50dab287c3be"
      },
      "execution_count": null,
      "outputs": [
        {
          "output_type": "stream",
          "name": "stdout",
          "text": [
            "Digite uma nota 9\n",
            "Digite a outra nota 7\n",
            "Aprovado\n",
            "A sua média foi 8.0\n"
          ]
        }
      ]
    },
    {
      "cell_type": "markdown",
      "source": [
        "**Controle fluxo - elif** - Decidindo uma viagem\n",
        "A famíla conversou que, se tivesse frio, eles preferiam ficar em casa.\n",
        "Por isso, adcionaram uma opção, \"estar frio\" na decisão da viagem. A lógica era a mesma, porém estaria vinculada a uma temperatura...\n",
        "**Condição Aninhada**\n",
        "*se* viagem.temperatura():\n",
        "viagem.mala\n",
        "viagem.trabalho\n",
        "viagem.estrada\n",
        "*senão:*\n",
        "viagem.trabalho\n",
        "viagem.casa\n",
        "viagem.mala\n",
        "viagem.estrada\n",
        "*senão *viagem.frio():\n",
        "viagem.shopping\n",
        "\n",
        "viagem.comer\n",
        "viagem.descansar"
      ],
      "metadata": {
        "id": "N_5F4paSpd3C"
      }
    },
    {
      "cell_type": "code",
      "source": [
        "temperatura = float(input('Qual a temperatura? '))\n",
        "if temperatura > 27:\n",
        "   print('Vamos para a praia')\n",
        "elif temperatura < 17:\n",
        "   print('Vamos ficar em casa')\n",
        "else:\n",
        "   print('Vamos para o campo')\n"
      ],
      "metadata": {
        "colab": {
          "base_uri": "https://localhost:8080/"
        },
        "id": "YXd8BTHNq5jM",
        "outputId": "5fe915cb-44ec-4ca6-dbca-c6bd533ee812"
      },
      "execution_count": null,
      "outputs": [
        {
          "output_type": "stream",
          "name": "stdout",
          "text": [
            "Qual a temperatura? 10\n",
            "Vamos ficar em casa\n"
          ]
        }
      ]
    },
    {
      "cell_type": "markdown",
      "source": [
        "**Controle fluxo - for**\n",
        "Imagina na viagem  você resolveu comprar uma batata do Mac Donalds para cada pessoa que está no carro, então você para no Drive-Thru e conta as pessoas do carro\n",
        "Para cada pessoa até 4 pegue una batata\n",
        "*for p range(1,4): batata pagar*\n",
        "\n",
        "\n"
      ],
      "metadata": {
        "id": "ia6xW9SQzUco"
      }
    },
    {
      "cell_type": "markdown",
      "source": [],
      "metadata": {
        "id": "Q5nEikmp42OJ"
      }
    },
    {
      "cell_type": "code",
      "source": [
        "for p in range(1,4):\n",
        "    print('batata') # Indented this line to be part of the for loop\n"
      ],
      "metadata": {
        "colab": {
          "base_uri": "https://localhost:8080/"
        },
        "id": "yPhcq1Yv0LcO",
        "outputId": "c9499c71-3553-4f58-9a23-d7b155332691"
      },
      "execution_count": null,
      "outputs": [
        {
          "output_type": "stream",
          "name": "stdout",
          "text": [
            "batata\n",
            "batata\n",
            "batata\n"
          ]
        }
      ]
    },
    {
      "cell_type": "code",
      "source": [
        "pessoa = int(input('Quantas pessoas tem aí? '))\n",
        "\n",
        "for pessoa in range(0,pessoa):\n",
        "  print('batata')\n",
        "print('pagar')"
      ],
      "metadata": {
        "colab": {
          "base_uri": "https://localhost:8080/"
        },
        "id": "de4miizi1qO_",
        "outputId": "0e6a8204-1362-4d0b-d71f-5d9ea7d34c3c"
      },
      "execution_count": null,
      "outputs": [
        {
          "output_type": "stream",
          "name": "stdout",
          "text": [
            "Quantas pessoas tem aí? 3\n",
            "batata\n",
            "batata\n",
            "batata\n",
            "pagar\n"
          ]
        }
      ]
    },
    {
      "cell_type": "code",
      "source": [
        "for e in range(0,3):\n",
        "  print('Linda!')\n",
        "print('vamos tomar um sorvete?')\n"
      ],
      "metadata": {
        "colab": {
          "base_uri": "https://localhost:8080/"
        },
        "id": "MWWZT--t3GWd",
        "outputId": "3efe60fe-f213-47e9-f967-8df2a6d605fa"
      },
      "execution_count": null,
      "outputs": [
        {
          "output_type": "stream",
          "name": "stdout",
          "text": [
            "Linda!\n",
            "Linda!\n",
            "Linda!\n",
            "vamos tomar um sorvete?\n"
          ]
        }
      ]
    },
    {
      "cell_type": "markdown",
      "source": [
        "**Controle fluxo - While** viagem\n",
        "Enquanto estiver viajando\n",
        " *se* fome\n",
        " comer\n",
        "*se* sede\n",
        " beber\n",
        " *se* apertado\n",
        " banheiro\n",
        "print('Voce chegou ao seu destino')"
      ],
      "metadata": {
        "id": "yUYKReqA3xAe"
      }
    },
    {
      "cell_type": "code",
      "source": [
        "status = input('Já chegou? ')\n",
        "while status != 'Sim':\n",
        "  if status == 'comer':\n",
        "    print('comer')\n",
        "    break\n",
        "  elif status == 'sede':\n",
        "    print('beber')\n",
        "    break\n",
        "  elif status == 'apertado':\n",
        "    print('banheiro')\n",
        "    break\n",
        "    print('Já chegou')\n",
        "    break\n",
        "\n"
      ],
      "metadata": {
        "id": "8BSfaiPO4w7p"
      },
      "execution_count": null,
      "outputs": []
    },
    {
      "cell_type": "markdown",
      "source": [
        "**Jogo construção**"
      ],
      "metadata": {
        "id": "c-JMFdbV7BxE"
      }
    },
    {
      "cell_type": "code",
      "source": [
        "n = 0\n",
        "while n!=5:\n",
        "   n = int(input('Digite um número: '))\n",
        "print('Fim de Jogo')\n",
        "\n"
      ],
      "metadata": {
        "colab": {
          "base_uri": "https://localhost:8080/"
        },
        "id": "1_CnSW187Jsa",
        "outputId": "f5fff984-8e93-478b-d3d9-5655adfa1fd0"
      },
      "execution_count": null,
      "outputs": [
        {
          "output_type": "stream",
          "name": "stdout",
          "text": [
            "Digite um número: 7\n",
            "Digite um número: 9\n",
            "Digite um número: 5\n",
            "Fim de Jogo\n"
          ]
        }
      ]
    },
    {
      "cell_type": "markdown",
      "source": [
        "**Tupla**\n",
        "Imutável - não consigo acrescentar itens com o append.\n",
        "Necessário ir na fonte."
      ],
      "metadata": {
        "id": "bN_3VeEOWZKM"
      }
    },
    {
      "cell_type": "code",
      "source": [
        "alimentos = 'arroz', 'feijão', 'carne'\n",
        "print(alimentos)\n",
        "alimentos.append('pudim')\n"
      ],
      "metadata": {
        "colab": {
          "base_uri": "https://localhost:8080/",
          "height": 193
        },
        "id": "ytIDu3-KWf9c",
        "outputId": "3a21da23-03b4-4d67-d05c-0b7287c483e5"
      },
      "execution_count": null,
      "outputs": [
        {
          "output_type": "stream",
          "name": "stdout",
          "text": [
            "('arroz', 'feijão', 'carne')\n"
          ]
        },
        {
          "output_type": "error",
          "ename": "AttributeError",
          "evalue": "'tuple' object has no attribute 'append'",
          "traceback": [
            "\u001b[0;31m---------------------------------------------------------------------------\u001b[0m",
            "\u001b[0;31mAttributeError\u001b[0m                            Traceback (most recent call last)",
            "\u001b[0;32m<ipython-input-1-1e159b2a4a62>\u001b[0m in \u001b[0;36m<cell line: 0>\u001b[0;34m()\u001b[0m\n\u001b[1;32m      1\u001b[0m \u001b[0malimentos\u001b[0m \u001b[0;34m=\u001b[0m \u001b[0;34m'arroz'\u001b[0m\u001b[0;34m,\u001b[0m \u001b[0;34m'feijão'\u001b[0m\u001b[0;34m,\u001b[0m \u001b[0;34m'carne'\u001b[0m\u001b[0;34m\u001b[0m\u001b[0;34m\u001b[0m\u001b[0m\n\u001b[1;32m      2\u001b[0m \u001b[0mprint\u001b[0m\u001b[0;34m(\u001b[0m\u001b[0malimentos\u001b[0m\u001b[0;34m)\u001b[0m\u001b[0;34m\u001b[0m\u001b[0;34m\u001b[0m\u001b[0m\n\u001b[0;32m----> 3\u001b[0;31m \u001b[0malimentos\u001b[0m\u001b[0;34m.\u001b[0m\u001b[0mappend\u001b[0m\u001b[0;34m(\u001b[0m\u001b[0;34m'pudim'\u001b[0m\u001b[0;34m)\u001b[0m\u001b[0;34m\u001b[0m\u001b[0;34m\u001b[0m\u001b[0m\n\u001b[0m",
            "\u001b[0;31mAttributeError\u001b[0m: 'tuple' object has no attribute 'append'"
          ]
        }
      ]
    },
    {
      "cell_type": "code",
      "source": [
        "alimentos = 'arroz', 'feijão', 'carne','arroz','arroz arborio'\n",
        "print(alimentos)\n",
        "print(alimentos.count('arroz'))\n",
        "len(alimentos)\n",
        "\n"
      ],
      "metadata": {
        "colab": {
          "base_uri": "https://localhost:8080/"
        },
        "id": "AeoleTLiCkOW",
        "outputId": "43f29e69-2695-4579-da2e-960ff322960f"
      },
      "execution_count": null,
      "outputs": [
        {
          "output_type": "stream",
          "name": "stdout",
          "text": [
            "('arroz', 'feijão', 'carne', 'arroz', 'arroz arborio')\n",
            "2\n"
          ]
        },
        {
          "output_type": "execute_result",
          "data": {
            "text/plain": [
              "5"
            ]
          },
          "metadata": {},
          "execution_count": 4
        }
      ]
    },
    {
      "cell_type": "markdown",
      "source": [
        "**Lista**\n",
        "alimentos = ['Arroz', 'Feijão', 'Carne']\n",
        "print(alimentos)\n",
        "novoalimento = input ('novo alimento: ')\n",
        "alimentos.append(novoalimento)\n",
        "print(alimentos)"
      ],
      "metadata": {
        "id": "G3PNMHFIEd9S"
      }
    },
    {
      "cell_type": "code",
      "source": [
        "alimentos= ['arroz', 'feijão', 'carne']\n",
        "print(alimentos)\n",
        "novoalimento = input('Digite um novo alimento: ')\n",
        "alimentos.append(novoalimento)\n",
        "print(alimentos)\n",
        "alimentos.sort()\n",
        "print(alimentos)\n",
        "alimentos.reverse\n",
        "print(alimentos)\n",
        "alimentos.remove('arroz')\n",
        "print(alimentos)\n",
        "alimentos.pop()\n",
        "print(alimentos)\n"
      ],
      "metadata": {
        "colab": {
          "base_uri": "https://localhost:8080/"
        },
        "id": "9UouLpi3F-ZJ",
        "outputId": "e7717fff-5cf6-4cad-f327-475bd571d11c"
      },
      "execution_count": null,
      "outputs": [
        {
          "output_type": "stream",
          "name": "stdout",
          "text": [
            "['arroz', 'feijão', 'carne']\n",
            "Digite um novo alimento: brigadeiro\n",
            "['arroz', 'feijão', 'carne', 'brigadeiro']\n",
            "['arroz', 'brigadeiro', 'carne', 'feijão']\n",
            "['arroz', 'brigadeiro', 'carne', 'feijão']\n",
            "['brigadeiro', 'carne', 'feijão']\n",
            "['brigadeiro', 'carne']\n"
          ]
        }
      ]
    },
    {
      "cell_type": "markdown",
      "source": [
        "**Dicionario**\n"
      ],
      "metadata": {
        "id": "lJObSWM8J9Ul"
      }
    },
    {
      "cell_type": "code",
      "source": [
        "dados = dict()\n",
        "dados = {'Nome': 'Decio', 'Idade': 70, 'Peso': 59}\n",
        "print(dados['Nome'])\n",
        "dados['Altura'] = 1.59\n",
        "print(dados)\n",
        "\n",
        "del dados['Idade']\n",
        "print(dados)\n"
      ],
      "metadata": {
        "colab": {
          "base_uri": "https://localhost:8080/"
        },
        "id": "-onIjPVHKN3J",
        "outputId": "eac7a842-97a0-45ae-d67e-8e264d8c9dd3"
      },
      "execution_count": null,
      "outputs": [
        {
          "output_type": "stream",
          "name": "stdout",
          "text": [
            "Decio\n",
            "{'Nome': 'Decio', 'Idade': 70, 'Peso': 59, 'Altura': 1.59}\n",
            "{'Nome': 'Decio', 'Peso': 59, 'Altura': 1.59}\n"
          ]
        }
      ]
    },
    {
      "cell_type": "code",
      "source": [
        "dados.values()\n",
        "\n"
      ],
      "metadata": {
        "colab": {
          "base_uri": "https://localhost:8080/"
        },
        "id": "GlOIj5U5Nno6",
        "outputId": "472e449e-144a-4b25-b6c5-b070e63008ca"
      },
      "execution_count": null,
      "outputs": [
        {
          "output_type": "execute_result",
          "data": {
            "text/plain": [
              "dict_values(['Decio', 59, 1.59])"
            ]
          },
          "metadata": {},
          "execution_count": 21
        }
      ]
    },
    {
      "cell_type": "code",
      "source": [
        "dados.keys()"
      ],
      "metadata": {
        "colab": {
          "base_uri": "https://localhost:8080/"
        },
        "id": "2a-vTqplOk9T",
        "outputId": "dd1cb47d-527e-447c-81c0-12a79d5aa259"
      },
      "execution_count": null,
      "outputs": [
        {
          "output_type": "execute_result",
          "data": {
            "text/plain": [
              "dict_keys(['Nome', 'Peso', 'Altura'])"
            ]
          },
          "metadata": {},
          "execution_count": 22
        }
      ]
    },
    {
      "cell_type": "code",
      "source": [
        "dados.items()"
      ],
      "metadata": {
        "colab": {
          "base_uri": "https://localhost:8080/"
        },
        "id": "qrPKtfN_OYCC",
        "outputId": "3a6b2cf5-ab7b-4314-b92f-fabf3c5df68b"
      },
      "execution_count": null,
      "outputs": [
        {
          "output_type": "execute_result",
          "data": {
            "text/plain": [
              "dict_items([('Nome', 'Decio'), ('Peso', 59), ('Altura', 1.59)])"
            ]
          },
          "metadata": {},
          "execution_count": 23
        }
      ]
    },
    {
      "cell_type": "markdown",
      "source": [
        "Dicionario com for"
      ],
      "metadata": {
        "id": "YVXUyIDBPCMT"
      }
    },
    {
      "cell_type": "code",
      "source": [
        "for k, v in dados.items():\n",
        "  print('O {} é {}'.format(k,v))\n",
        "  print(f'O valor de {k} é {v}')\n"
      ],
      "metadata": {
        "colab": {
          "base_uri": "https://localhost:8080/"
        },
        "id": "rIlJ8HYaPGbW",
        "outputId": "c0dabd94-533e-41c7-c50d-567d2d3906ef"
      },
      "execution_count": null,
      "outputs": [
        {
          "output_type": "stream",
          "name": "stdout",
          "text": [
            "O Nome é Decio\n",
            "O valor de Nome é Decio\n",
            "O Peso é 59\n",
            "O valor de Peso é 59\n",
            "O Altura é 1.59\n",
            "O valor de Altura é 1.59\n"
          ]
        }
      ]
    },
    {
      "cell_type": "markdown",
      "source": [
        "Notas Dicionário"
      ],
      "metadata": {
        "id": "rNqiIk06RBPu"
      }
    },
    {
      "cell_type": "code",
      "source": [
        "aluno = dict()\n",
        "nota = dict()\n",
        "aluno = dict()\n",
        "nota = dict()\n",
        "nota2 = dict()\n",
        "media = dict()\n",
        "\n",
        "aluno['nome'] = str(input('Digite o nome do aluno: '))\n",
        "aluno['nota'] = float(input('Digite a nota: '))\n",
        "aluno['nota2'] = float(input('Digite a segunda nota: '))\n",
        "media = (aluno['nota'] + aluno['nota2'])/2\n",
        "aluno['media'] = aluno['nota'] + aluno['nota2']\n",
        "print('A sua media é {} '.format(media))\n",
        "\n"
      ],
      "metadata": {
        "colab": {
          "base_uri": "https://localhost:8080/"
        },
        "id": "E8oW76VCREYO",
        "outputId": "281c7e5e-4f40-4592-f0af-f76e43014cfa"
      },
      "execution_count": null,
      "outputs": [
        {
          "output_type": "stream",
          "name": "stdout",
          "text": [
            "Digite o nome do aluno: decio\n",
            "Digite a nota: 10\n",
            "Digite a segunda nota: 9\n",
            "A sua media é 9.5 \n"
          ]
        }
      ]
    },
    {
      "cell_type": "markdown",
      "source": [
        "Notas Dicionario"
      ],
      "metadata": {
        "id": "LqXXX4pWjVm6"
      }
    },
    {
      "cell_type": "code",
      "source": [
        "aluno = dict()\n",
        "aluno['nome'] = str(input('Digite o nome do aluno: '))\n",
        "aluno['media'] = float(input('Digite a media: '))\n",
        "\n",
        "if aluno['media'] > 6:\n",
        "  aluno['situacao'] = 'Aprovado'\n",
        "elif aluno['media'] < 5:\n",
        "  aluno['situacao'] = 'Reprovado'\n",
        "else:\n",
        "   aluno['situacao'] = 'Recuperação'\n",
        "\n",
        "for k, v in aluno.items():\n",
        "    print('O {} é {}'.format(k, v))\n"
      ],
      "metadata": {
        "colab": {
          "base_uri": "https://localhost:8080/"
        },
        "id": "P5AaUOnTX-7R",
        "outputId": "a01753c8-d056-43b1-b360-f8bd9b69a81c"
      },
      "execution_count": null,
      "outputs": [
        {
          "output_type": "stream",
          "name": "stdout",
          "text": [
            "Digite o nome do aluno: Decio Caetano de Souza\n",
            "Digite a media: 10\n",
            "O nome é Decio Caetano de Souza\n",
            "O media é 10.0\n",
            "O situacao é Aprovado\n"
          ]
        }
      ]
    },
    {
      "cell_type": "markdown",
      "source": [
        "Funções"
      ],
      "metadata": {
        "id": "_40vAj0flROB"
      }
    },
    {
      "cell_type": "code",
      "source": [
        "def somaImposto(valor, imposto):\n",
        "  return valor +(valor * imposto)\n",
        "valor = float(input('Digite o valor: '))\n",
        "imposto = float(input('Digite o imposto: '))\n",
        "\n",
        "print(somaImposto(valor, imposto))\n",
        "\n"
      ],
      "metadata": {
        "colab": {
          "base_uri": "https://localhost:8080/"
        },
        "id": "Nz4CMqqVji_l",
        "outputId": "3d441cbc-aa82-4b92-93d7-1dd87823d7c9"
      },
      "execution_count": null,
      "outputs": [
        {
          "output_type": "stream",
          "name": "stdout",
          "text": [
            "Digite o valor: 100\n",
            "Digite o imposto: 0.01\n",
            "101.0\n"
          ]
        }
      ]
    },
    {
      "cell_type": "markdown",
      "source": [
        "**Importando Pandas**\n",
        "pandas = pd\n",
        "dataframe = df"
      ],
      "metadata": {
        "id": "1IrvYBXo3mB3"
      }
    },
    {
      "cell_type": "code",
      "source": [
        "dados = ({\n",
        "    'Nome':['Jaque','Fabio','Eduardo','Ayisha','Zaira','Pedro','Savannah'],\n",
        "    'Salario': [1000, 2000, 3000, 4000, 5000, 6000, 7000],\n",
        "    'Idade':[41,29,28,17,16,51,18],\n",
        "    'Peso': [175, 140, 160, 140, 136, 180, 150],\n",
        "    'Genero':['F','M','M','F','F','M','F'],\n",
        "    'Estado':['São Paulo','Minas Gerais','Rio de Janeiro','Santa Catarina','Salvador','Vitória','Curitiba'],\n",
        "    'Filhos':[4,1,2,3,0,2,0],\n",
        "    'Pets':[3,2,2,5,0,1,5]})\n",
        "\n",
        "import pandas as pd\n",
        "df = pd.DataFrame(dados)\n",
        "print(df)\n"
      ],
      "metadata": {
        "colab": {
          "base_uri": "https://localhost:8080/"
        },
        "id": "eZxYAOW93o83",
        "outputId": "a920beaf-3123-42c7-8694-31ebf695b1cc"
      },
      "execution_count": 2,
      "outputs": [
        {
          "output_type": "stream",
          "name": "stdout",
          "text": [
            "       Nome  Salario  Idade  Peso Genero          Estado  Filhos  Pets\n",
            "0     Jaque     1000     41   175      F       São Paulo       4     3\n",
            "1     Fabio     2000     29   140      M    Minas Gerais       1     2\n",
            "2   Eduardo     3000     28   160      M  Rio de Janeiro       2     2\n",
            "3    Ayisha     4000     17   140      F  Santa Catarina       3     5\n",
            "4     Zaira     5000     16   136      F        Salvador       0     0\n",
            "5     Pedro     6000     51   180      M         Vitória       2     1\n",
            "6  Savannah     7000     18   150      F        Curitiba       0     5\n"
          ]
        }
      ]
    },
    {
      "cell_type": "code",
      "source": [
        "dados_filtrados = df[df['Idade'] > 18]\n",
        "print(dados_filtrados)\n"
      ],
      "metadata": {
        "colab": {
          "base_uri": "https://localhost:8080/"
        },
        "id": "VZ5xcBv47hSZ",
        "outputId": "8b4fa107-c12c-4ea1-f754-b59f30065116"
      },
      "execution_count": 3,
      "outputs": [
        {
          "output_type": "stream",
          "name": "stdout",
          "text": [
            "      Nome  Salario  Idade  Peso Genero          Estado  Filhos  Pets\n",
            "0    Jaque     1000     41   175      F       São Paulo       4     3\n",
            "1    Fabio     2000     29   140      M    Minas Gerais       1     2\n",
            "2  Eduardo     3000     28   160      M  Rio de Janeiro       2     2\n",
            "5    Pedro     6000     51   180      M         Vitória       2     1\n"
          ]
        }
      ]
    },
    {
      "cell_type": "code",
      "source": [
        "from re import M\n",
        "dados_filtrados = df[df['Pets'] == 2]\n",
        "print(dados_filtrados)"
      ],
      "metadata": {
        "colab": {
          "base_uri": "https://localhost:8080/"
        },
        "id": "kgAiiXtC79-G",
        "outputId": "754c140f-7acc-453d-f926-b69c2a792d75"
      },
      "execution_count": 7,
      "outputs": [
        {
          "output_type": "stream",
          "name": "stdout",
          "text": [
            "      Nome  Salario  Idade  Peso Genero          Estado  Filhos  Pets\n",
            "1    Fabio     2000     29   140      M    Minas Gerais       1     2\n",
            "2  Eduardo     3000     28   160      M  Rio de Janeiro       2     2\n"
          ]
        }
      ]
    }
  ]
}